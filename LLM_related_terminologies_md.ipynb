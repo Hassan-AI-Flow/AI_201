{
  "nbformat": 4,
  "nbformat_minor": 0,
  "metadata": {
    "colab": {
      "provenance": [],
      "authorship_tag": "ABX9TyMbgU73tb7gawm0BHKMQq+e",
      "include_colab_link": true
    },
    "kernelspec": {
      "name": "python3",
      "display_name": "Python 3"
    },
    "language_info": {
      "name": "python"
    }
  },
  "cells": [
    {
      "cell_type": "markdown",
      "metadata": {
        "id": "view-in-github",
        "colab_type": "text"
      },
      "source": [
        "<a href=\"https://colab.research.google.com/github/RaoSunny124/AI_201/blob/main/LLM_related_terminologies_md.ipynb\" target=\"_parent\"><img src=\"https://colab.research.google.com/assets/colab-badge.svg\" alt=\"Open In Colab\"/></a>"
      ]
    },
    {
      "cell_type": "markdown",
      "source": [
        "### **`1. API✨`**\n",
        "`1. An API (Application Programming Interface) is a set of rules and protocols for building and interacting with software applications.`\n",
        "\n",
        "`2. It defines the methods and data formats applications can use to communicate with each other.`\n",
        "\n",
        "`3. APIs can be RESTful, SOAP-based, or follow other architectures, providing endpoints for operations and data exchange.`\n",
        "\n",
        "**`Basic Example:`**\n",
        "```python\n",
        "import requests  # 🌐 Making a web request\n",
        "response = requests.get('https://api.example.com/hello')  # 🔍 Fetch data from API\n",
        "print(response.text)  # 🖨️ Print the response\n",
        "```\n",
        "\n",
        "### **`2. SDK`**\n",
        "`1. An SDK (Software Development Kit) is a collection of tools, libraries, documentation, and code samples that developers use to build software applications for a specific platform or technology.`\n",
        "\n",
        "`2. SDKs often include APIs to facilitate interaction with the underlying platform.`\n",
        "\n",
        "**`Basic Example:`**\n",
        "```python\n",
        "from my_sdk import MyApp  # 📦 Import the SDK\n",
        "app = MyApp(api_key='your_api_key')  # 🔑 Initialize with API key\n",
        "response = app.get_data()  # 📋 Fetch data using the SDK\n",
        "print(response)  # 🖨️ Display the fetched data\n",
        "```\n",
        "\n",
        "### **`3. Web APIs`**\n",
        "`1. Web APIs are APIs specifically designed for interaction over the web using HTTP/HTTPS protocols.`\n",
        "\n",
        "`2. They allow applications to send and receive data across networks, often in formats like JSON or XML.`\n",
        "\n",
        "`3. Examples include Google Maps API, Twitter API, and OpenWeather API.`\n",
        "\n",
        "**`Basic Example:`**\n",
        "```python\n",
        "import requests  # 🌐 Import the requests library\n",
        "response = requests.get('https://api.example.com/hello')  # 🔍 Fetch data from API\n",
        "data = response.json()  # 📄 Parse the JSON response\n",
        "print(data)  # 🖨️ Output the data\n",
        "```\n",
        "\n",
        "### **`4. Library APIs`**\n",
        "`1. Library APIs are interfaces provided by software libraries.`\n",
        "\n",
        "`2. These APIs expose functions, methods, or classes that developers can use directly within their code to perform specific tasks, such as mathematical operations, file handling, or database interactions.`\n",
        "\n",
        "**`Basic Example:`**\n",
        "```python\n",
        "import math  # ➕ Import math library\n",
        "result = math.sqrt(16)  # 🧮 Perform square root calculation\n",
        "print(result)  # 🖨️ Output the result (4.0)\n",
        "```\n",
        "\n",
        "### **`5. Prompting and Completion`**\n",
        "`1. Prompting and completion typically refer to interactions with language models or AI systems.`\n",
        "\n",
        "`2. 'Prompting' involves giving the model a specific input or query.`\n",
        "\n",
        "`3. 'Completion' refers to the model's output or response.`\n",
        "\n",
        "`4. Developers use APIs like OpenAI's GPT models to provide prompts and receive generated completions to build applications like chatbots, content generators, or summarization tools.`\n",
        "\n",
        "**`Basic Example:`**\n",
        "```python\n",
        "import openai  # 🤖 Interact with OpenAI API\n",
        "openai.api_key = 'your_api_key'  # 🔑 Set your API key\n",
        "response = openai.Completion.create(\n",
        "    model=\"text-davinci-003\",  # 🧠 Specify the model\n",
        "    prompt=\"What is 2 + 2?\",  # ✍️ Provide a prompt\n",
        "    max_tokens=5  # 📏 Limit the response length\n",
        ")\n",
        "print(response.choices[0].text.strip())  # 🖨️ Output the model's response\n",
        "```\n",
        "###**`Thanks for read✨`**\n"
      ],
      "metadata": {
        "id": "5MEEHlyp8tRH"
      }
    }
  ]
}