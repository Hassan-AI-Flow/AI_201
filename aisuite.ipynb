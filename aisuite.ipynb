{
  "nbformat": 4,
  "nbformat_minor": 0,
  "metadata": {
    "colab": {
      "provenance": [],
      "authorship_tag": "ABX9TyPWBLdybF3o+2JJC1cz/nnd",
      "include_colab_link": true
    },
    "kernelspec": {
      "name": "python3",
      "display_name": "Python 3"
    },
    "language_info": {
      "name": "python"
    }
  },
  "cells": [
    {
      "cell_type": "markdown",
      "metadata": {
        "id": "view-in-github",
        "colab_type": "text"
      },
      "source": [
        "<a href=\"https://colab.research.google.com/github/RaoSunny124/AI_201/blob/main/aisuite.ipynb\" target=\"_parent\"><img src=\"https://colab.research.google.com/assets/colab-badge.svg\" alt=\"Open In Colab\"/></a>"
      ]
    },
    {
      "cell_type": "code",
      "execution_count": null,
      "metadata": {
        "id": "XtfkHsohHeAB"
      },
      "outputs": [],
      "source": [
        "from google.colab import userdata\n",
        "Groq_Api_key = userdata.get('Groq_Api_key')"
      ]
    },
    {
      "cell_type": "code",
      "source": [
        "!pip install aisuite -q"
      ],
      "metadata": {
        "collapsed": true,
        "id": "w71nZYEoHzvo"
      },
      "execution_count": null,
      "outputs": []
    },
    {
      "cell_type": "code",
      "source": [
        "!pip install  -q 'aisuite[anthropic]'"
      ],
      "metadata": {
        "collapsed": true,
        "id": "wJLE_phuH9fh"
      },
      "execution_count": null,
      "outputs": []
    },
    {
      "cell_type": "code",
      "source": [
        "!pip install -q 'aisuite[all]'"
      ],
      "metadata": {
        "collapsed": true,
        "id": "6Peu7eHkIQRK"
      },
      "execution_count": null,
      "outputs": []
    },
    {
      "cell_type": "code",
      "source": [
        "!pip install -q  --upgrade aisuite\n",
        "!pip install -q  --upgrade groq"
      ],
      "metadata": {
        "collapsed": true,
        "id": "S_dtLQ5LIbXn"
      },
      "execution_count": null,
      "outputs": []
    },
    {
      "cell_type": "code",
      "source": [
        "import os\n",
        "os.environ[\"GROQ_API_KEY\"] = Groq_Api_key"
      ],
      "metadata": {
        "id": "BiG-q7rRIjT_"
      },
      "execution_count": null,
      "outputs": []
    },
    {
      "cell_type": "code",
      "source": [
        "import aisuite as ai\n",
        "client = ai.Client()  # Ensure no extra arguments like proxies are passed\n",
        "\n",
        "models = [\"groq:llama3-8b-8192\"]\n",
        "\n",
        "messages = [\n",
        "    {\"role\": \"system\", \"content\": \"give me summary English.\"},\n",
        "    {\"role\": \"user\", \"content\": \"AI.\"},\n",
        "]\n",
        "\n",
        "for model in models:\n",
        "    response = client.chat.completions.create(\n",
        "        model=model,\n",
        "        messages=messages,\n",
        "        temperature=0.75\n",
        "    )\n",
        "    print(response.choices[0].message.content)"
      ],
      "metadata": {
        "colab": {
          "base_uri": "https://localhost:8080/"
        },
        "id": "7w7vW1YhIooD",
        "outputId": "41f12c5b-8574-4899-9ab1-32022de3ef49"
      },
      "execution_count": null,
      "outputs": [
        {
          "output_type": "stream",
          "name": "stdout",
          "text": [
            "Here's a summary of AI in English:\n",
            "\n",
            "Artificial Intelligence (AI) refers to the development of computer systems that can perform tasks that typically require human intelligence, such as:\n",
            "\n",
            "1. Learning: AI can learn from data and improve its performance over time.\n",
            "2. Reasoning: AI can make decisions and deductions based on given information.\n",
            "3. Perception: AI can interpret and understand data from sensors, audio, and visual inputs.\n",
            "4. Problem-solving: AI can identify and solve complex problems.\n",
            "\n",
            "AI is used in various applications, including:\n",
            "\n",
            "1. Natural Language Processing (NLP): AI can understand and generate human language.\n",
            "2. Computer Vision: AI can analyze and understand visual data from images and videos.\n",
            "3. Robotics: AI is used in robots to enable them to perform tasks autonomously.\n",
            "4. Healthcare: AI is used in medical diagnosis, treatment, and patient care.\n",
            "5. Finance: AI is used in stock trading, risk analysis, and customer service.\n",
            "\n",
            "There are different types of AI, including:\n",
            "\n",
            "1. Narrow or Weak AI: AI designed for a specific task, such as playing chess or recognizing faces.\n",
            "2. General or Strong AI: AI that can perform any intellectual task that a human can.\n",
            "3. Superintelligence: AI that is much more intelligent than the best human minds.\n",
            "\n",
            "The benefits of AI include:\n",
            "\n",
            "1. Increased efficiency: AI can automate repetitive tasks and free up human resources.\n",
            "2. Improved accuracy: AI can perform tasks more accurately and consistently than humans.\n",
            "3. Enhanced decision-making: AI can analyze large amounts of data to make informed decisions.\n",
            "\n",
            "However, AI also raises concerns about:\n",
            "\n",
            "1. Job displacement: AI may replace human jobs in certain industries.\n",
            "2. Bias: AI can perpetuate biases in the data it is trained on.\n",
            "3. Ethics: AI raises ethical questions about accountability, transparency, and privacy.\n",
            "\n",
            "Overall, AI has the potential to revolutionize many industries and aspects of our lives, but it's essential to consider its implications and develop guidelines for its development and use.\n"
          ]
        }
      ]
    },
    {
      "cell_type": "code",
      "source": [],
      "metadata": {
        "id": "ffIrQK0vJCSA"
      },
      "execution_count": null,
      "outputs": []
    }
  ]
}