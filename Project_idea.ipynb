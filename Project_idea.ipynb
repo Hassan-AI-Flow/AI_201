{
  "nbformat": 4,
  "nbformat_minor": 0,
  "metadata": {
    "colab": {
      "provenance": [],
      "authorship_tag": "ABX9TyMvTliD+6/wSso4cxHl2Zjh",
      "include_colab_link": true
    },
    "kernelspec": {
      "name": "python3",
      "display_name": "Python 3"
    },
    "language_info": {
      "name": "python"
    }
  },
  "cells": [
    {
      "cell_type": "markdown",
      "metadata": {
        "id": "view-in-github",
        "colab_type": "text"
      },
      "source": [
        "<a href=\"https://colab.research.google.com/github/RaoSunny124/AI_201/blob/main/Project_idea.ipynb\" target=\"_parent\"><img src=\"https://colab.research.google.com/assets/colab-badge.svg\" alt=\"Open In Colab\"/></a>"
      ]
    },
    {
      "cell_type": "markdown",
      "source": [
        "##`Travelling Agent✨:`\n",
        " #### `This project aims to develop an AI-powered Travelling agent that helps people in travelling.This project helps us to guide during traveling.It helps in finding routes , hotel and more services during travelling...`\n",
        "* `Traveling agent manage our tickets procedure.`\n",
        "* `It will tell us the way using Google maps.`\n",
        "* `The traveling agent will tell us about weather condition , hotels and repairing services.`\n",
        "##`In this project, we are using this:`\n",
        "* `Generative AI (GPT) for content creation`\n",
        "* `CrewAI for agent interaction`\n",
        "* `Langchain and Google map etc.`"
      ],
      "metadata": {
        "id": "DpCcfJFiqPb_"
      }
    }
  ]
}